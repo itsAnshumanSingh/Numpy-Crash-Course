{
 "cells": [
  {
   "cell_type": "markdown",
   "id": "a3cca4ff-4d1b-476f-bbd5-21a88c4ec965",
   "metadata": {},
   "source": [
    "# Numpy Library "
   ]
  },
  {
   "cell_type": "code",
   "execution_count": 1,
   "id": "f1c65e69-1942-439c-b28f-f0d803bbdfe4",
   "metadata": {},
   "outputs": [
    {
     "name": "stdout",
     "output_type": "stream",
     "text": [
      "Hello world\n"
     ]
    }
   ],
   "source": [
    "print(\"Hello world\")"
   ]
  },
  {
   "cell_type": "code",
   "execution_count": 2,
   "id": "1bbd3e67-5677-44a4-bf57-f26f8bf84f33",
   "metadata": {},
   "outputs": [],
   "source": [
    "import numpy as np"
   ]
  },
  {
   "cell_type": "code",
   "execution_count": 3,
   "id": "da038a28-22b7-48f8-9cd0-7edba0f68e07",
   "metadata": {},
   "outputs": [],
   "source": [
    "myarray = np.array([[1,2,3,4,5]], np.int8)"
   ]
  },
  {
   "cell_type": "code",
   "execution_count": 4,
   "id": "1a8c82b5-da98-4ff8-a316-3352940f27bd",
   "metadata": {},
   "outputs": [
    {
     "data": {
      "text/plain": [
       "array([[1, 2, 3, 4, 5]], dtype=int8)"
      ]
     },
     "execution_count": 4,
     "metadata": {},
     "output_type": "execute_result"
    }
   ],
   "source": [
    "myarray"
   ]
  },
  {
   "cell_type": "code",
   "execution_count": 5,
   "id": "ce0b0381-7b66-43f1-a238-90f041169c28",
   "metadata": {},
   "outputs": [
    {
     "data": {
      "text/plain": [
       "(1, 5)"
      ]
     },
     "execution_count": 5,
     "metadata": {},
     "output_type": "execute_result"
    }
   ],
   "source": [
    "myarray.shape"
   ]
  },
  {
   "cell_type": "code",
   "execution_count": 6,
   "id": "db589f65-4869-4d7a-8181-b0b62eff7c2d",
   "metadata": {},
   "outputs": [
    {
     "data": {
      "text/plain": [
       "5"
      ]
     },
     "execution_count": 6,
     "metadata": {},
     "output_type": "execute_result"
    }
   ],
   "source": [
    "myarray.size"
   ]
  },
  {
   "cell_type": "code",
   "execution_count": 7,
   "id": "f742878c-ce1f-4f11-b042-2ec4b84da385",
   "metadata": {},
   "outputs": [
    {
     "data": {
      "text/plain": [
       "dtype('int8')"
      ]
     },
     "execution_count": 7,
     "metadata": {},
     "output_type": "execute_result"
    }
   ],
   "source": [
    "myarray.dtype"
   ]
  },
  {
   "cell_type": "code",
   "execution_count": 8,
   "id": "a0fb6265-c164-4c5b-ad2f-a240a15931d1",
   "metadata": {},
   "outputs": [],
   "source": [
    "myarray[0,2] = 45"
   ]
  },
  {
   "cell_type": "markdown",
   "id": "1a3b2185-f0db-47d4-a59d-efd8d208f009",
   "metadata": {},
   "source": [
    "https://numpy.org/doc/1.20/user/basics.creation.html\n",
    "There are 5 general mechanisms for creating arrays:\n",
    "\n",
    "Conversion from other Python structures (e.g., lists, tuples)\n",
    "\n",
    "Intrinsic numpy array creation objects (e.g., arange, ones, zeros, etc.)\n",
    "\n",
    "Reading arrays from disk, either from standard or custom formats\n",
    "\n",
    "Creating arrays from raw bytes through the use of strings or buffers\n",
    "\n",
    "Use of special library functions (e.g., random)"
   ]
  },
  {
   "cell_type": "code",
   "execution_count": 9,
   "id": "4436bbb2-a4bd-4ef4-8af2-7705f50262b4",
   "metadata": {},
   "outputs": [],
   "source": [
    "py_ar = [2,4,6]"
   ]
  },
  {
   "cell_type": "code",
   "execution_count": 10,
   "id": "23c66473-26fd-48fd-876e-9edf6441c9b4",
   "metadata": {},
   "outputs": [
    {
     "data": {
      "text/plain": [
       "[2, 4, 6]"
      ]
     },
     "execution_count": 10,
     "metadata": {},
     "output_type": "execute_result"
    }
   ],
   "source": [
    "py_ar"
   ]
  },
  {
   "cell_type": "code",
   "execution_count": 16,
   "id": "6c51fbc7-7702-4632-bb3a-9a88762a690c",
   "metadata": {},
   "outputs": [
    {
     "name": "stdout",
     "output_type": "stream",
     "text": [
      "timer of list is  0.0027830000035464764\n",
      "timer of numpy array is  0.39046450005844235\n",
      "ratio of them is  140.30344935711804\n"
     ]
    }
   ],
   "source": [
    "from timeit import default_timer as timer\n",
    "\n",
    "a = np.random.randn(1000)\n",
    "b = np.random.randn(1000)\n",
    "A = list(a)\n",
    "B = list(b)\n",
    "\n",
    "T = 1000\n",
    "\n",
    "def dot1():\n",
    "    dot = 0\n",
    "    for i in range(len(A)):\n",
    "        dot += A[i] * B[i]\n",
    "    return dot\n",
    "\n",
    "def dot2():\n",
    "    return np.dot(a,b)\n",
    "\n",
    "start = timer()\n",
    "for i in range(T):\n",
    "    dot1()\n",
    "end = timer()\n",
    "t1 = end - start\n",
    "\n",
    "start = timer()\n",
    "for i in range(T):\n",
    "    dot2()\n",
    "end = timer()\n",
    "t2 = end - start\n",
    "\n",
    "print(\"timer of list is \", t2)\n",
    "print(\"timer of numpy array is \", t1)\n",
    "print(\"ratio of them is \", t1/t2)"
   ]
  },
  {
   "cell_type": "code",
   "execution_count": 23,
   "id": "3a2443fc-30d7-4e9e-a607-68c061d37f52",
   "metadata": {},
   "outputs": [
    {
     "name": "stdout",
     "output_type": "stream",
     "text": [
      "[[1 2 3]\n",
      " [4 5 6]] \n",
      "\n",
      "6 \n",
      "\n",
      "(2, 3) \n",
      "\n",
      "[[1 4]\n",
      " [2 5]\n",
      " [3 6]]\n"
     ]
    }
   ],
   "source": [
    "a = np.array([[1,2,3],[4,5,6]])\n",
    "print(a, \"\\n\")\n",
    "print(a.size, \"\\n\")\n",
    "print(a.shape, \"\\n\")\n",
    "print(a.T)\n"
   ]
  },
  {
   "cell_type": "code",
   "execution_count": 35,
   "id": "7002a6f0-0f92-4c24-9cac-4c790334a4ff",
   "metadata": {},
   "outputs": [
    {
     "name": "stdout",
     "output_type": "stream",
     "text": [
      "[1 4] \n",
      "\n",
      "[1 2 3]\n"
     ]
    }
   ],
   "source": [
    "print(a[:,0], \"\\n\")\n",
    "print(a[0,:])"
   ]
  },
  {
   "cell_type": "code",
   "execution_count": 34,
   "id": "477c5277-d4b8-4896-9293-ac9aefdadba9",
   "metadata": {},
   "outputs": [
    {
     "name": "stdout",
     "output_type": "stream",
     "text": [
      "5\n"
     ]
    }
   ],
   "source": [
    "print(a[-1,-2])"
   ]
  },
  {
   "cell_type": "markdown",
   "id": "f38723bb-9a6d-42b2-a363-6dc3de974406",
   "metadata": {},
   "source": [
    "# ***Getting inverse, determinant and diagonal matrix of nD array***"
   ]
  },
  {
   "cell_type": "code",
   "execution_count": 33,
   "id": "2ed86ae5-dedd-4013-b5a7-ed38208ccafe",
   "metadata": {},
   "outputs": [
    {
     "name": "stdout",
     "output_type": "stream",
     "text": [
      "inverse is \n",
      " [[ 0.325 -0.2   -0.175]\n",
      " [ 0.2   -0.2    0.2  ]\n",
      " [ 0.05   0.2    0.05 ]] \n",
      "\n",
      "determinant is \n",
      " -39.99999999999998 \n",
      "\n",
      "diagonal elements are \n",
      " [ 2 -1  1] \n",
      "\n",
      "diagonal matrix is \n",
      " [[ 2  0  0]\n",
      " [ 0 -1  0]\n",
      " [ 0  0  1]]\n"
     ]
    }
   ],
   "source": [
    "b = np.array([[2,1,3], [0,-1,4], [-2,3,1]])\n",
    "print(\"inverse is \\n\", np.linalg.inv(b), \"\\n\")\n",
    "print(\"determinant is \\n\", np.linalg.det(b), \"\\n\")\n",
    "print(\"diagonal elements are \\n\", np.diag(b), \"\\n\")\n",
    "\n",
    "c = np.diag(b)\n",
    "print(\"diagonal matrix is \\n\", np.diag(c))"
   ]
  },
  {
   "cell_type": "markdown",
   "id": "aa739721-893b-47d7-b096-aec77c792baa",
   "metadata": {},
   "source": [
    "# Boolean indexing"
   ]
  },
  {
   "cell_type": "code",
   "execution_count": 41,
   "id": "3b7566e3-be2a-4a10-9657-29424de91bea",
   "metadata": {},
   "outputs": [
    {
     "name": "stdout",
     "output_type": "stream",
     "text": [
      "[[1 2]\n",
      " [3 4]\n",
      " [5 6]]\n"
     ]
    }
   ],
   "source": [
    "a = np.array([[1,2],[3,4],[5,6]])\n",
    "print(a)"
   ]
  },
  {
   "cell_type": "code",
   "execution_count": 44,
   "id": "58a45d83-b478-48dd-978d-b9a0bb15fe01",
   "metadata": {},
   "outputs": [
    {
     "name": "stdout",
     "output_type": "stream",
     "text": [
      "[[False False]\n",
      " [ True  True]\n",
      " [ True  True]]\n"
     ]
    }
   ],
   "source": [
    "bool_idx = a>2\n",
    "# here a is the name of same matrix\n",
    "print(bool_idx)"
   ]
  },
  {
   "cell_type": "code",
   "execution_count": 49,
   "id": "56c735b3-b33d-4561-a2ee-e82b4425f443",
   "metadata": {},
   "outputs": [
    {
     "name": "stdout",
     "output_type": "stream",
     "text": [
      "[3 4 5 6] \n",
      "\n",
      "[3 4 5 6]\n"
     ]
    }
   ],
   "source": [
    "print(a[bool_idx], \"\\n\")\n",
    "print(a[a>2])\n",
    "#both can be used and work similar"
   ]
  },
  {
   "cell_type": "code",
   "execution_count": 53,
   "id": "0997c65e-3c94-475e-b8de-744d647d0f6a",
   "metadata": {},
   "outputs": [
    {
     "name": "stdout",
     "output_type": "stream",
     "text": [
      "[[999 999]\n",
      " [  3   4]\n",
      " [  5   6]]\n"
     ]
    }
   ],
   "source": [
    "b = np.where(a>2, a, 999)\n",
    "#third argument is the desired value we want to fill where element is not according to condition\n",
    "print(b)"
   ]
  },
  {
   "cell_type": "code",
   "execution_count": 54,
   "id": "1550c21a-c3e7-4f74-9f14-549b17aaad4a",
   "metadata": {},
   "outputs": [
    {
     "name": "stdout",
     "output_type": "stream",
     "text": [
      "[20 40 60]\n"
     ]
    }
   ],
   "source": [
    "# Fancy indexing\n",
    "a = np.array([10,20,30,40,50,60])\n",
    "l = [1,3,5]\n",
    "print(a[l])"
   ]
  },
  {
   "cell_type": "code",
   "execution_count": 57,
   "id": "98f82a91-7611-40c3-8bf8-38f8cc56cd5d",
   "metadata": {},
   "outputs": [
    {
     "name": "stdout",
     "output_type": "stream",
     "text": [
      "[10 78 44 12]\n"
     ]
    }
   ],
   "source": [
    "a = np.array([10, 33, 67, 78, 89, 44, 12])\n",
    "even = np.argwhere(a%2 == 0).flatten()\n",
    "print(a[even])\n"
   ]
  },
  {
   "cell_type": "code",
   "execution_count": 59,
   "id": "a6aacf2b-515a-4f04-a9f8-535862bcf153",
   "metadata": {},
   "outputs": [
    {
     "name": "stdout",
     "output_type": "stream",
     "text": [
      "[ 1  2  3  4  5  6  7  8  9 10] \n",
      "\n",
      "(10,) \n",
      "\n",
      "[[ 1  2  3  4  5]\n",
      " [ 6  7  8  9 10]]\n"
     ]
    }
   ],
   "source": [
    "a= np.arange(1,11)\n",
    "print(a, \"\\n\")\n",
    "print(a.shape, \"\\n\")\n",
    "#reshaping the array\n",
    "b = a.reshape(2,5)\n",
    "print(b)"
   ]
  },
  {
   "cell_type": "code",
   "execution_count": 63,
   "id": "d3e197c1-b227-4c93-b169-12374e1e4d84",
   "metadata": {},
   "outputs": [
    {
     "name": "stdout",
     "output_type": "stream",
     "text": [
      "(1, 6) \n",
      "\n",
      "[[1 2 3 4 5 6]] \n",
      "\n",
      "(6, 1) \n",
      "\n",
      "[[1]\n",
      " [2]\n",
      " [3]\n",
      " [4]\n",
      " [5]\n",
      " [6]]\n"
     ]
    }
   ],
   "source": [
    "#using new axis method\n",
    "a = np.arange(1,7)\n",
    "c = a[np.newaxis, :]\n",
    "print(c.shape, \"\\n\")\n",
    "print(c, \"\\n\")\n",
    "\n",
    "d = a[:, np.newaxis]\n",
    "print(d.shape, \"\\n\")\n",
    "print(d)\n"
   ]
  },
  {
   "cell_type": "markdown",
   "id": "8ea7b7ff-8359-42ef-abe4-bba6f3a2040b",
   "metadata": {},
   "source": [
    "# Concatenation in array"
   ]
  },
  {
   "cell_type": "code",
   "execution_count": 80,
   "id": "7d591568-e008-42c8-a148-febacd5101c0",
   "metadata": {},
   "outputs": [
    {
     "name": "stdout",
     "output_type": "stream",
     "text": [
      "[[1 2]\n",
      " [3 4]\n",
      " [5 6]] \n",
      " and\n",
      " [1 2 3 4 5 6]\n"
     ]
    }
   ],
   "source": [
    "a = np.array([[1,2], [3,4]])\n",
    "b = np.array([[5,6]])\n",
    "c = np.concatenate((a,b), axis=0)\n",
    "d = np.concatenate((a,b), axis=None)\n",
    "print(c, \"\\n and\\n\", d)"
   ]
  },
  {
   "cell_type": "code",
   "execution_count": 81,
   "id": "e9a14848-00ae-490c-a905-bdbc96e36d98",
   "metadata": {},
   "outputs": [
    {
     "name": "stdout",
     "output_type": "stream",
     "text": [
      "[[1 2 5]\n",
      " [3 4 6]]\n"
     ]
    }
   ],
   "source": [
    "e = np.concatenate((a,b.T), axis=1)\n",
    "#if we take the b in initial form(without transpose) then it will throw value error.\n",
    "print(e)"
   ]
  },
  {
   "cell_type": "code",
   "execution_count": 77,
   "id": "8630c74d-d2c8-407c-9a39-0a8a6d708d91",
   "metadata": {},
   "outputs": [
    {
     "name": "stdout",
     "output_type": "stream",
     "text": [
      "[1 2 3 4 5 6 7 8] \n",
      "\n",
      "[[1 2 3 4]\n",
      " [5 6 7 8]]\n"
     ]
    }
   ],
   "source": [
    "# hstack and vstack methods\n",
    "a = np.array([1,2,3,4])\n",
    "b = np.array([5,6,7,8])\n",
    "c = np.hstack((a,b))\n",
    "d = np.vstack((a,b))\n",
    "\n",
    "print(c, \"\\n\")\n",
    "print(d)"
   ]
  },
  {
   "cell_type": "markdown",
   "id": "a8d305b4-0e5d-4f04-9c46-023535d09eb9",
   "metadata": {},
   "source": [
    "# Broadcasting"
   ]
  },
  {
   "cell_type": "code",
   "execution_count": 78,
   "id": "62d273df-9ccd-450d-ab65-9ca3a000274e",
   "metadata": {},
   "outputs": [
    {
     "name": "stdout",
     "output_type": "stream",
     "text": [
      "[[2 2 4]\n",
      " [5 5 7]\n",
      " [2 2 4]\n",
      " [5 5 7]]\n"
     ]
    }
   ],
   "source": [
    "a = np.array([[1,2,3], [4,5,6], [1,2,3], [4,5,6]])\n",
    "b = np.array([[1,0,1]])\n",
    "c = a + b\n",
    "print(c)\n",
    "# In this type of addition each element of respective index are added to their corresponding element from second aarray"
   ]
  },
  {
   "cell_type": "markdown",
   "id": "dc71d667-f1a1-4f40-8140-8c958de78247",
   "metadata": {},
   "source": [
    "# Functions"
   ]
  },
  {
   "cell_type": "code",
   "execution_count": 93,
   "id": "0094e867-8412-4362-81e4-0f09704ffd73",
   "metadata": {},
   "outputs": [
    {
     "name": "stdout",
     "output_type": "stream",
     "text": [
      "Sum of elements is  192\n",
      "Sum of elements at axis 0 is  [27 29 31 33 35 37]\n",
      "Sum of elements at axis 1 is  [ 87 105]\n",
      "Mean of elements is  16.0\n",
      "Variance is 5.166666666666667\n",
      "Standard deviatoin is  2.273030282830976\n"
     ]
    }
   ],
   "source": [
    "a = np.array([[12,13,14,15,16,17], [15,16,17,18,19,20]])\n",
    "print(\"Sum of elements is \", a.sum())\n",
    "print(\"Sum of elements at axis 0 is \", a.sum(axis=0))\n",
    "print(\"Sum of elements at axis 1 is \", a.sum(axis=1))\n",
    "print(\"Mean of elements is \", a.mean())\n",
    "print(\"Variance is\", a.var())\n",
    "print(\"Standard deviatoin is \", a.std())\n",
    "\n",
    "# We can also write:\n",
    "# print(np.mean(a, axis=None))"
   ]
  },
  {
   "cell_type": "markdown",
   "id": "34a96cec-a4fa-4f60-b2a0-066f1142317f",
   "metadata": {},
   "source": [
    "# Datatypes"
   ]
  },
  {
   "cell_type": "code",
   "execution_count": 99,
   "id": "dd539bac-2a66-4dee-af7b-e72e9adfede6",
   "metadata": {},
   "outputs": [
    {
     "name": "stdout",
     "output_type": "stream",
     "text": [
      "float64\n"
     ]
    }
   ],
   "source": [
    "x = np.array([1.0 , 2.0], dtype = np.float64)\n",
    "print(x.dtype)"
   ]
  },
  {
   "cell_type": "markdown",
   "id": "7d33f89a-ff8e-48a3-ba29-f0011662f23c",
   "metadata": {},
   "source": [
    "# Copying vs reference"
   ]
  },
  {
   "cell_type": "code",
   "execution_count": 104,
   "id": "c970be43-1fad-4553-afe4-f570f05d9519",
   "metadata": {},
   "outputs": [
    {
     "name": "stdout",
     "output_type": "stream",
     "text": [
      "b is  [45  2  3  4]\n",
      "a is  [45  2  3  4]\n"
     ]
    }
   ],
   "source": [
    "# int the following example we used the same refernece thats why both variables got updated \n",
    "a = np.array([1,2,3,4])\n",
    "b = a\n",
    "b[0] = 45\n",
    "print(\"b is \", b)\n",
    "print(\"a is \", a)"
   ]
  },
  {
   "cell_type": "code",
   "execution_count": 106,
   "id": "fa1c9544-b52b-4203-b50b-3597209713b5",
   "metadata": {},
   "outputs": [
    {
     "name": "stdout",
     "output_type": "stream",
     "text": [
      "b is  [45  2  3  4]\n",
      "a is  [1 2 3 4]\n"
     ]
    }
   ],
   "source": [
    "a = np.array([1,2,3,4])\n",
    "b = a.copy()\n",
    "# Using the copy function to safely copy\n",
    "b[0] = 45\n",
    "print(\"b is \",b)\n",
    "print(\"a is \",a)"
   ]
  },
  {
   "cell_type": "markdown",
   "id": "dbe74a32-6f2c-46da-9c3b-efba28827128",
   "metadata": {},
   "source": [
    "# Generating random arrays"
   ]
  },
  {
   "cell_type": "code",
   "execution_count": 116,
   "id": "b0ab7282-521a-4b3d-a928-462250360b59",
   "metadata": {},
   "outputs": [
    {
     "name": "stdout",
     "output_type": "stream",
     "text": [
      "[[0. 0. 0.]\n",
      " [0. 0. 0.]\n",
      " [0. 0. 0.]]\n",
      "float64 \n",
      "\n",
      "[[1. 1. 1.]\n",
      " [1. 1. 1.]] \n",
      "\n",
      "[[99 99 99]\n",
      " [99 99 99]] \n",
      "\n",
      "[[1. 0. 0. 0.]\n",
      " [0. 1. 0. 0.]\n",
      " [0. 0. 1. 0.]\n",
      " [0. 0. 0. 1.]] \n",
      "\n",
      "[0 1 2 3 4 5 6 7] \n",
      "\n",
      "[0.         0.33333333 0.66666667 1.         1.33333333 1.66666667\n",
      " 2.         2.33333333 2.66666667 3.        ]\n"
     ]
    }
   ],
   "source": [
    "a = np.zeros((3,3))\n",
    "print(a)\n",
    "print(a.dtype, \"\\n\")\n",
    "b = np.ones((2,3))\n",
    "print(b, \"\\n\")\n",
    "c = np.full((2,3), 99)\n",
    "print(c, \"\\n\")\n",
    "d = np.eye(4)\n",
    "print(d, \"\\n\")\n",
    "e = np.arange(8)\n",
    "print(e, \"\\n\")\n",
    "f = np.linspace(0,3,10)\n",
    "print(f)"
   ]
  },
  {
   "cell_type": "code",
   "execution_count": 126,
   "id": "75a1f9cf-a04d-4a52-a570-b3e30f2d7145",
   "metadata": {},
   "outputs": [
    {
     "name": "stdout",
     "output_type": "stream",
     "text": [
      "[[0.6120766  0.48941934]\n",
      " [0.07812656 0.67151188]\n",
      " [0.90550451 0.70507299]] \n",
      "\n",
      "[[ 0.08275811 -0.17620627 -0.16361797]\n",
      " [ 0.33893139  0.08923664  1.12026015]] \n",
      "\n",
      "0.21522700955621119 0.1940921460704336\n",
      "[-0.9032947  -0.09255086 -0.13259117 -1.19470757 -0.18195837 -0.60562263\n",
      " -1.17320255  1.00709591 -1.86110923 -0.7244434  -0.31235903 -1.52543618\n",
      "  0.70767122  1.62262148  0.70843045 -0.02434074  0.855517   -1.65268218\n",
      " -1.65157109  0.46643857  0.50334306  1.9969364   1.17758665  0.06769581\n",
      "  0.67769653] \n",
      "\n",
      "-0.08979346578524652 1.0963122069416538 \n",
      "\n",
      "[[4 6 2]\n",
      " [6 8 7]\n",
      " [3 4 5]] \n",
      "\n",
      "[1 0 3 1 4 3 2 4] \n",
      "\n",
      "[4 2 3 4 2 2 4 1] \n",
      "\n"
     ]
    }
   ],
   "source": [
    "a = np.random.random((3,2))\n",
    "print(a, \"\\n\") # mean =0 and var=1 and gives no's in bw. 0-1\n",
    "\n",
    "a = np.random.randn(2,3) # normal/Gaussian distribution \n",
    "print(a, \"\\n\")\n",
    "print(a.mean(), a.var())\n",
    "\n",
    "a = np.random.randn(25) # normal/Gaussian distribution \n",
    "print(a, \"\\n\")\n",
    "print(a.mean(), a.var(), \"\\n\")\n",
    "\n",
    "a = np.random.randint(2,10, size=(3,3)) #using only one number then 0 will be lower bound\n",
    "print(a, \"\\n\")\n",
    "\n",
    "a = np.random.choice(5, size=8)\n",
    "print(a, \"\\n\")\n",
    "\n",
    "a = np.random.choice([1,2,3,4], size=8)\n",
    "print(a, \"\\n\")"
   ]
  },
  {
   "cell_type": "markdown",
   "id": "e32f2d45-9f44-46b7-9496-b1f1d4ec5eed",
   "metadata": {},
   "source": [
    "# Linear Algebra"
   ]
  },
  {
   "cell_type": "code",
   "execution_count": 133,
   "id": "579afddd-4cba-4d27-ba69-9dd4a67b41c3",
   "metadata": {},
   "outputs": [
    {
     "name": "stdout",
     "output_type": "stream",
     "text": [
      "Eigen values are \n",
      " [-0.37228132  5.37228132]\n",
      "Eigen vectors are \n",
      "  [[-0.82456484 -0.41597356]\n",
      " [ 0.56576746 -0.90937671]]\n"
     ]
    }
   ],
   "source": [
    "a = np.array([[1,2],[3,4]])\n",
    "eigenValues, eigenVectors = np.linalg.eig(a)\n",
    "print(\"Eigen values are \\n\", eigenValues)\n",
    "print(\"Eigen vectors are \\n \", eigenVectors) #column vector"
   ]
  },
  {
   "cell_type": "code",
   "execution_count": 138,
   "id": "c32cfd1a-0933-4d9b-ae04-4dfc41788109",
   "metadata": {},
   "outputs": [
    {
     "name": "stdout",
     "output_type": "stream",
     "text": [
      "True\n"
     ]
    }
   ],
   "source": [
    "# For verification we know that :\n",
    "# e_vec * e_val = A * e_vec\n",
    "\n",
    "b = eigenVectors[:,0] * eigenValues[0]\n",
    "c = a @ eigenVectors[:,0]\n",
    "\n",
    "#print(b==c) will give wrong \n",
    "print(np.allclose(b,c))"
   ]
  },
  {
   "cell_type": "markdown",
   "id": "9bf9427c-04cf-4056-a89b-d21b5483bd48",
   "metadata": {},
   "source": [
    "* Q1. The admission fees of a small fair is 1.5 for children and 4.0 for adults.on a certain day 2200 people visited the fair and 5050 was collected. How many children and adults attended the fair? *"
   ]
  },
  {
   "cell_type": "markdown",
   "id": "d42265f3-3036-4fe6-a2f3-0396d5ea3c20",
   "metadata": {},
   "source": [
    "Solution:\n",
    "x1 + x2 = 2200\n",
    "(1.5)x1 + (4.0)x2 = 5050"
   ]
  },
  {
   "cell_type": "markdown",
   "id": "849abc85-cccb-4e66-b64d-b22e8af10a63",
   "metadata": {},
   "source": [
    "Ax = b\n",
    "=> x = inv(A)*b"
   ]
  },
  {
   "cell_type": "code",
   "execution_count": 142,
   "id": "59c09758-a49a-4224-babc-a738e3744fe6",
   "metadata": {},
   "outputs": [
    {
     "name": "stdout",
     "output_type": "stream",
     "text": [
      "[1500.  700.]\n",
      "[1500.  700.]\n"
     ]
    }
   ],
   "source": [
    "A = np.array([[1,1], [1.5, 4.0]])\n",
    "b = np.array([2200, 5050])\n",
    "x = np.linalg.inv(A).dot(b)\n",
    "print(x)\n",
    "\n",
    "x = np.linalg.solve(A,b)\n",
    "print(x)"
   ]
  },
  {
   "cell_type": "markdown",
   "id": "348441f0-c6bc-4884-b5e6-7fb9a5d389fd",
   "metadata": {},
   "source": [
    "# Loading .csv files "
   ]
  },
  {
   "cell_type": "code",
   "execution_count": 145,
   "id": "f9905ee0-e4fc-404f-9303-576e728aad0d",
   "metadata": {},
   "outputs": [],
   "source": [
    "# np.loadtxt or np.genfromtxt\n",
    "\n",
    "# data = np.loadtxt(\"fileName.csv\", delimeter=\",\", dtype=np.float32)\n",
    "#print(data)"
   ]
  },
  {
   "cell_type": "code",
   "execution_count": null,
   "id": "6c0f53f4-bf63-4c5d-8c3b-85b63890a0b2",
   "metadata": {},
   "outputs": [],
   "source": []
  }
 ],
 "metadata": {
  "kernelspec": {
   "display_name": "Python 3 (ipykernel)",
   "language": "python",
   "name": "python3"
  },
  "language_info": {
   "codemirror_mode": {
    "name": "ipython",
    "version": 3
   },
   "file_extension": ".py",
   "mimetype": "text/x-python",
   "name": "python",
   "nbconvert_exporter": "python",
   "pygments_lexer": "ipython3",
   "version": "3.10.8"
  }
 },
 "nbformat": 4,
 "nbformat_minor": 5
}
